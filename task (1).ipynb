{
  "nbformat": 4,
  "nbformat_minor": 0,
  "metadata": {
    "colab": {
      "provenance": []
    },
    "kernelspec": {
      "name": "python3",
      "display_name": "Python 3"
    },
    "language_info": {
      "name": "python"
    }
  },
  "cells": [
    {
      "cell_type": "code",
      "execution_count": 9,
      "metadata": {
        "id": "LuSQmr3khcSt"
      },
      "outputs": [],
      "source": [
        "import tensorflow as tf\n",
        "from tensorflow.keras import layers, models\n",
        "from tensorflow.keras.utils import to_categorical\n",
        "from sklearn import svm\n",
        "from sklearn.metrics import accuracy_score\n",
        "from sklearn.model_selection import train_test_split\n",
        "import numpy as np\n",
        "\n",
        "# Load CIFAR-10 dataset\n",
        "(X_train, y_train), (X_test, y_test) = tf.keras.datasets.cifar10.load_data()\n",
        "\n",
        "# Normalize data\n",
        "X_train, X_test = X_train / 255.0, X_test / 255.0\n",
        "\n",
        "# Split into train and validation\n",
        "X_train, X_val, y_train, y_val = train_test_split(X_train, y_train, test_size=0.2, random_state=42)\n",
        "\n",
        "# Convert labels to categorical for neural networks\n",
        "y_train_cat = to_categorical(y_train, 10)\n",
        "y_val_cat = to_categorical(y_val, 10)\n",
        "y_test_cat = to_categorical(y_test, 10)"
      ]
    },
    {
      "cell_type": "code",
      "source": [
        "# ANN model\n",
        "def create_ann():\n",
        "    model = models.Sequential([\n",
        "        layers.Flatten(input_shape=(32, 32, 3)),\n",
        "        layers.Dense(512, activation='relu'),\n",
        "        layers.Dense(256, activation='relu'),\n",
        "        layers.Dense(128, activation='relu'),\n",
        "        layers.Dense(10, activation='softmax')\n",
        "    ])\n",
        "    model.compile(optimizer='adam', loss='categorical_crossentropy', metrics=['accuracy'])\n",
        "    return model\n",
        "\n",
        "# Train ANN\n",
        "ann_model = create_ann()\n",
        "ann_history = ann_model.fit(X_train, y_train_cat, epochs=10, validation_data=(X_val, y_val_cat), batch_size=64)\n",
        "\n",
        "# Evaluate ANN\n",
        "train_loss, train_accuracy = ann_model.evaluate(X_train, y_train_cat, verbose=0)\n",
        "val_loss, val_accuracy = ann_model.evaluate(X_val, y_val_cat, verbose=0)\n",
        "test_loss, test_accuracy = ann_model.evaluate(X_test, y_test_cat, verbose=0)\n",
        "\n",
        "print(f'ANN Training Accuracy: (train_accuracy:.4f), Validation Accuracy: (val_accuracy:.4f), Test Accuracy: (test_accuracy:.4f)"
      ],
      "metadata": {
        "id": "fSzi5RM0hfIR",
        "colab": {
          "base_uri": "https://localhost:8080/",
          "height": 106
        },
        "outputId": "9ad7c216-5441-485d-d7d8-d0cbb2a5a5f2"
      },
      "execution_count": 10,
      "outputs": [
        {
          "output_type": "error",
          "ename": "SyntaxError",
          "evalue": "invalid decimal literal (<ipython-input-10-bc2b961298f2>, line 22)",
          "traceback": [
            "\u001b[0;36m  File \u001b[0;32m\"<ipython-input-10-bc2b961298f2>\"\u001b[0;36m, line \u001b[0;32m22\u001b[0m\n\u001b[0;31m    print(f'ANN Training Accuracy: {(train_accuracy:.4f)*100}%, Validation Accuracy: {(val_accuracy:.4f)*100}%, Test Accuracy: {(test_accuracy:.4f)*100}%')\u001b[0m\n\u001b[0m                      ^\u001b[0m\n\u001b[0;31mSyntaxError\u001b[0m\u001b[0;31m:\u001b[0m invalid decimal literal\n"
          ]
        }
      ]
    },
    {
      "cell_type": "code",
      "source": [
        "# Flatten the data for SVM\n",
        "X_train_flat = X_train.reshape(X_train.shape[0], -1)\n",
        "X_val_flat = X_val.reshape(X_val.shape[0], -1)\n",
        "X_test_flat = X_test.reshape(X_test.shape[0], -1)\n",
        "\n",
        "# SVM model\n",
        "svm_model = svm.SVC(kernel='linear', C=1.0)\n",
        "\n",
        "# Train SVM\n",
        "svm_model.fit(X_train_flat[:5000], y_train[:5000].ravel())  # Subset for faster training\n",
        "\n",
        "# Evaluate SVM\n",
        "train_accuracy = accuracy_score(y_train[:5000], svm_model.predict(X_train_flat[:5000]))\n",
        "val_accuracy = accuracy_score(y_val, svm_model.predict(X_val_flat))\n",
        "test_accuracy = accuracy_score(y_test, svm_model.predict(X_test_flat))\n",
        "\n",
        "print(f'SVM Training Accuracy: {train_accuracy}, Validation Accuracy: {val_accuracy}, Test Accuracy: {test_accuracy}')"
      ],
      "metadata": {
        "id": "_1yeRiewhgLX",
        "colab": {
          "base_uri": "https://localhost:8080/"
        },
        "outputId": "afee9120-0c42-4a33-fe0f-680507f1fbca"
      },
      "execution_count": 11,
      "outputs": [
        {
          "output_type": "stream",
          "name": "stdout",
          "text": [
            "SVM Training Accuracy: 0.9866, Validation Accuracy: 0.3094, Test Accuracy: 0.3025\n"
          ]
        }
      ]
    },
    {
      "cell_type": "code",
      "source": [
        "# CNN model\n",
        "def create_cnn():\n",
        "    model = models.Sequential([\n",
        "        layers.Conv2D(32, (3, 3), activation='relu', input_shape=(32, 32, 3)),\n",
        "        layers.MaxPooling2D((2, 2)),\n",
        "        layers.Conv2D(64, (3, 3), activation='relu'),\n",
        "        layers.MaxPooling2D((2, 2)),\n",
        "        layers.Conv2D(64, (3, 3), activation='relu'),\n",
        "        layers.Flatten(),\n",
        "        layers.Dense(64, activation='relu'),\n",
        "        layers.Dense(10, activation='softmax')\n",
        "    ])\n",
        "    model.compile(optimizer='adam', loss='categorical_crossentropy', metrics=['accuracy'])\n",
        "    return model\n",
        "\n",
        "# Train CNN\n",
        "cnn_model = create_cnn()\n",
        "cnn_history = cnn_model.fit(X_train, y_train_cat, epochs=10, validation_data=(X_val, y_val_cat), batch_size=64)\n",
        "\n",
        "# Evaluate CNN\n",
        "train_loss, train_accuracy = cnn_model.evaluate(X_train, y_train_cat, verbose=0)\n",
        "val_loss, val_accuracy = cnn_model.evaluate(X_val, y_val_cat, verbose=0)\n",
        "test_loss, test_accuracy = cnn_model.evaluate(X_test, y_test_cat, verbose=0)\n",
        "\n",
        "print(f'CNN Training Accuracy: {train_accuracy}, Validation Accuracy: {val_accuracy}, Test Accuracy: {test_accuracy}')\n"
      ],
      "metadata": {
        "id": "etCRaKl0hgH6",
        "colab": {
          "base_uri": "https://localhost:8080/"
        },
        "outputId": "fafcecd0-3e3e-468f-ddc9-3e33cd9b3bfb"
      },
      "execution_count": 12,
      "outputs": [
        {
          "output_type": "stream",
          "name": "stderr",
          "text": [
            "/usr/local/lib/python3.10/dist-packages/keras/src/layers/convolutional/base_conv.py:107: UserWarning: Do not pass an `input_shape`/`input_dim` argument to a layer. When using Sequential models, prefer using an `Input(shape)` object as the first layer in the model instead.\n",
            "  super().__init__(activity_regularizer=activity_regularizer, **kwargs)\n"
          ]
        },
        {
          "output_type": "stream",
          "name": "stdout",
          "text": [
            "Epoch 1/10\n",
            "\u001b[1m625/625\u001b[0m \u001b[32m━━━━━━━━━━━━━━━━━━━━\u001b[0m\u001b[37m\u001b[0m \u001b[1m61s\u001b[0m 94ms/step - accuracy: 0.2937 - loss: 1.8837 - val_accuracy: 0.5032 - val_loss: 1.3944\n",
            "Epoch 2/10\n",
            "\u001b[1m625/625\u001b[0m \u001b[32m━━━━━━━━━━━━━━━━━━━━\u001b[0m\u001b[37m\u001b[0m \u001b[1m79s\u001b[0m 89ms/step - accuracy: 0.5182 - loss: 1.3397 - val_accuracy: 0.5596 - val_loss: 1.2515\n",
            "Epoch 3/10\n",
            "\u001b[1m625/625\u001b[0m \u001b[32m━━━━━━━━━━━━━━━━━━━━\u001b[0m\u001b[37m\u001b[0m \u001b[1m55s\u001b[0m 88ms/step - accuracy: 0.5775 - loss: 1.1977 - val_accuracy: 0.5824 - val_loss: 1.1733\n",
            "Epoch 4/10\n",
            "\u001b[1m625/625\u001b[0m \u001b[32m━━━━━━━━━━━━━━━━━━━━\u001b[0m\u001b[37m\u001b[0m \u001b[1m56s\u001b[0m 89ms/step - accuracy: 0.6174 - loss: 1.0931 - val_accuracy: 0.6262 - val_loss: 1.0535\n",
            "Epoch 5/10\n",
            "\u001b[1m625/625\u001b[0m \u001b[32m━━━━━━━━━━━━━━━━━━━━\u001b[0m\u001b[37m\u001b[0m \u001b[1m85s\u001b[0m 93ms/step - accuracy: 0.6515 - loss: 0.9966 - val_accuracy: 0.6568 - val_loss: 0.9911\n",
            "Epoch 6/10\n",
            "\u001b[1m625/625\u001b[0m \u001b[32m━━━━━━━━━━━━━━━━━━━━\u001b[0m\u001b[37m\u001b[0m \u001b[1m80s\u001b[0m 89ms/step - accuracy: 0.6778 - loss: 0.9236 - val_accuracy: 0.6674 - val_loss: 0.9454\n",
            "Epoch 7/10\n",
            "\u001b[1m625/625\u001b[0m \u001b[32m━━━━━━━━━━━━━━━━━━━━\u001b[0m\u001b[37m\u001b[0m \u001b[1m83s\u001b[0m 91ms/step - accuracy: 0.6930 - loss: 0.8741 - val_accuracy: 0.6693 - val_loss: 0.9501\n",
            "Epoch 8/10\n",
            "\u001b[1m625/625\u001b[0m \u001b[32m━━━━━━━━━━━━━━━━━━━━\u001b[0m\u001b[37m\u001b[0m \u001b[1m81s\u001b[0m 90ms/step - accuracy: 0.7146 - loss: 0.8199 - val_accuracy: 0.6848 - val_loss: 0.8995\n",
            "Epoch 9/10\n",
            "\u001b[1m625/625\u001b[0m \u001b[32m━━━━━━━━━━━━━━━━━━━━\u001b[0m\u001b[37m\u001b[0m \u001b[1m83s\u001b[0m 91ms/step - accuracy: 0.7276 - loss: 0.7808 - val_accuracy: 0.6709 - val_loss: 0.9395\n",
            "Epoch 10/10\n",
            "\u001b[1m625/625\u001b[0m \u001b[32m━━━━━━━━━━━━━━━━━━━━\u001b[0m\u001b[37m\u001b[0m \u001b[1m57s\u001b[0m 91ms/step - accuracy: 0.7418 - loss: 0.7354 - val_accuracy: 0.6872 - val_loss: 0.9005\n",
            "CNN Training Accuracy: 0.7602750062942505, Validation Accuracy: 0.6872000098228455, Test Accuracy: 0.6819999814033508\n"
          ]
        }
      ]
    },
    {
      "cell_type": "code",
      "source": [
        "import matplotlib.pyplot as plt\n",
        "\n",
        "# ANN Accuracy and Loss\n",
        "plt.figure(figsize=(12, 5))\n",
        "plt.subplot(1, 2, 1)\n",
        "plt.plot(ann_history.history['accuracy'], label='Train Accuracy')\n",
        "plt.plot(ann_history.history['val_accuracy'], label='Validation Accuracy')\n",
        "plt.title('ANN Accuracy')\n",
        "plt.legend()\n",
        "\n",
        "plt.subplot(1, 2, 2)\n",
        "plt.plot(ann_history.history['loss'], label='Train Loss')\n",
        "plt.plot(ann_history.history['val_loss'], label='Validation Loss')\n",
        "plt.title('ANN Loss')\n",
        "plt.legend()\n",
        "plt.show()\n",
        "\n",
        "# CNN Accuracy and Loss\n",
        "plt.figure(figsize=(12, 5))\n",
        "plt.subplot(1, 2, 1)\n",
        "plt.plot(cnn_history.history['accuracy'], label='Train Accuracy')\n",
        "plt.plot(cnn_history.history['val_accuracy'], label='Validation Accuracy')\n",
        "plt.title('CNN Accuracy')\n",
        "plt.legend()\n",
        "\n",
        "plt.subplot(1, 2, 2)\n",
        "plt.plot(cnn_history.history['loss'], label='Train Loss')\n",
        "plt.plot(cnn_history.history['val_loss'], label='Validation Loss')\n",
        "plt.title('CNN Loss')\n",
        "plt.legend()\n",
        "plt.show()\n"
      ],
      "metadata": {
        "id": "bymc-itEhgFv",
        "colab": {
          "base_uri": "https://localhost:8080/",
          "height": 645
        },
        "outputId": "896d6d11-31bb-42a1-8703-c44d65c511b1"
      },
      "execution_count": 13,
      "outputs": [
        {
          "output_type": "error",
          "ename": "NameError",
          "evalue": "name 'ann_history' is not defined",
          "traceback": [
            "\u001b[0;31m---------------------------------------------------------------------------\u001b[0m",
            "\u001b[0;31mNameError\u001b[0m                                 Traceback (most recent call last)",
            "\u001b[0;32m<ipython-input-13-8116d3bbde43>\u001b[0m in \u001b[0;36m<cell line: 6>\u001b[0;34m()\u001b[0m\n\u001b[1;32m      4\u001b[0m \u001b[0mplt\u001b[0m\u001b[0;34m.\u001b[0m\u001b[0mfigure\u001b[0m\u001b[0;34m(\u001b[0m\u001b[0mfigsize\u001b[0m\u001b[0;34m=\u001b[0m\u001b[0;34m(\u001b[0m\u001b[0;36m12\u001b[0m\u001b[0;34m,\u001b[0m \u001b[0;36m5\u001b[0m\u001b[0;34m)\u001b[0m\u001b[0;34m)\u001b[0m\u001b[0;34m\u001b[0m\u001b[0;34m\u001b[0m\u001b[0m\n\u001b[1;32m      5\u001b[0m \u001b[0mplt\u001b[0m\u001b[0;34m.\u001b[0m\u001b[0msubplot\u001b[0m\u001b[0;34m(\u001b[0m\u001b[0;36m1\u001b[0m\u001b[0;34m,\u001b[0m \u001b[0;36m2\u001b[0m\u001b[0;34m,\u001b[0m \u001b[0;36m1\u001b[0m\u001b[0;34m)\u001b[0m\u001b[0;34m\u001b[0m\u001b[0;34m\u001b[0m\u001b[0m\n\u001b[0;32m----> 6\u001b[0;31m \u001b[0mplt\u001b[0m\u001b[0;34m.\u001b[0m\u001b[0mplot\u001b[0m\u001b[0;34m(\u001b[0m\u001b[0mann_history\u001b[0m\u001b[0;34m.\u001b[0m\u001b[0mhistory\u001b[0m\u001b[0;34m[\u001b[0m\u001b[0;34m'accuracy'\u001b[0m\u001b[0;34m]\u001b[0m\u001b[0;34m,\u001b[0m \u001b[0mlabel\u001b[0m\u001b[0;34m=\u001b[0m\u001b[0;34m'Train Accuracy'\u001b[0m\u001b[0;34m)\u001b[0m\u001b[0;34m\u001b[0m\u001b[0;34m\u001b[0m\u001b[0m\n\u001b[0m\u001b[1;32m      7\u001b[0m \u001b[0mplt\u001b[0m\u001b[0;34m.\u001b[0m\u001b[0mplot\u001b[0m\u001b[0;34m(\u001b[0m\u001b[0mann_history\u001b[0m\u001b[0;34m.\u001b[0m\u001b[0mhistory\u001b[0m\u001b[0;34m[\u001b[0m\u001b[0;34m'val_accuracy'\u001b[0m\u001b[0;34m]\u001b[0m\u001b[0;34m,\u001b[0m \u001b[0mlabel\u001b[0m\u001b[0;34m=\u001b[0m\u001b[0;34m'Validation Accuracy'\u001b[0m\u001b[0;34m)\u001b[0m\u001b[0;34m\u001b[0m\u001b[0;34m\u001b[0m\u001b[0m\n\u001b[1;32m      8\u001b[0m \u001b[0mplt\u001b[0m\u001b[0;34m.\u001b[0m\u001b[0mtitle\u001b[0m\u001b[0;34m(\u001b[0m\u001b[0;34m'ANN Accuracy'\u001b[0m\u001b[0;34m)\u001b[0m\u001b[0;34m\u001b[0m\u001b[0;34m\u001b[0m\u001b[0m\n",
            "\u001b[0;31mNameError\u001b[0m: name 'ann_history' is not defined"
          ]
        },
        {
          "output_type": "display_data",
          "data": {
            "text/plain": [
              "<Figure size 1200x500 with 1 Axes>"
            ],
            "image/png": "[encoded data removed]"
          },
          "metadata": {}
        }
      ]
    },
    {
      "cell_type": "code",
      "source": [],
      "metadata": {
        "id": "kuIsfaPUhgDR"
      },
      "execution_count": null,
      "outputs": []
    }
  ]
}